{
 "cells": [
  {
   "cell_type": "markdown",
   "id": "33a1409a-099d-49f7-b462-4598ba19f3d3",
   "metadata": {},
   "source": [
    "## Problem 1 - Defining variales"
   ]
  },
  {
   "cell_type": "code",
   "execution_count": 1,
   "id": "2428be61-77fb-428a-aaf2-f5f6d80b50ef",
   "metadata": {
    "tags": []
   },
   "outputs": [],
   "source": [
    "ice_cream_rating = 10\n",
    "sleeping_rating = 9"
   ]
  },
  {
   "cell_type": "markdown",
   "id": "1a897afa-01fc-4eff-a90e-957050fba4ac",
   "metadata": {},
   "source": [
    "## Problem 2 - Reading in variable values"
   ]
  },
  {
   "cell_type": "code",
   "execution_count": 10,
   "id": "01c51300-caa0-4239-9d62-e8f5581847ae",
   "metadata": {
    "tags": []
   },
   "outputs": [
    {
     "name": "stdin",
     "output_type": "stream",
     "text": [
      "Enter your first name: Aidan\n",
      "Enter your last name: Brown\n"
     ]
    },
    {
     "name": "stdout",
     "output_type": "stream",
     "text": [
      "Hello Aidan Brown\n"
     ]
    }
   ],
   "source": [
    "first_name = input('Enter your first name:')\n",
    "last_name = input('Enter your last name:')\n",
    "space = ' '\n",
    "my_name = (first_name + space + last_name)\n",
    "print(\"Hello \" + my_name)"
   ]
  },
  {
   "cell_type": "markdown",
   "id": "6d6dd67d-c34b-46af-8b82-947a56fa7f01",
   "metadata": {},
   "source": [
    "## Problem 3 - Bit of math"
   ]
  },
  {
   "cell_type": "code",
   "execution_count": 31,
   "id": "86718b3a-b00b-4614-8f2a-8a271f93dc8a",
   "metadata": {
    "tags": []
   },
   "outputs": [],
   "source": [
    "happiness_rating = ice_cream_rating + sleeping_rating / 2 "
   ]
  },
  {
   "cell_type": "markdown",
   "id": "fd5e9c3d-df6f-471d-aaa5-a647016a181c",
   "metadata": {},
   "source": [
    "## Problem 4 - Checking data types"
   ]
  },
  {
   "cell_type": "code",
   "execution_count": 28,
   "id": "46566c8b-ac6e-4770-8215-092fca8b12ae",
   "metadata": {
    "tags": []
   },
   "outputs": [
    {
     "name": "stdout",
     "output_type": "stream",
     "text": [
      "True\n",
      "True\n",
      "False\n"
     ]
    }
   ],
   "source": [
    "# Problem 4\n",
    "result1 = isinstance(ice_cream_rating, int)\n",
    "print(result1)\n",
    "\n",
    "result2 = isinstance(first_name, str)\n",
    "print(result2)\n",
    "\n",
    "result3 = isinstance(happiness_rating, int)\n",
    "print(result3)\n",
    "\n"
   ]
  },
  {
   "cell_type": "markdown",
   "id": "58f03ed3-3a45-4ae8-8d3c-c47cfda63a3c",
   "metadata": {},
   "source": [
    ">Did all of the data types make sense? Were there any data types that were different than you expected? In the new Python cell that appeared after running the code above, enter your responses to the questions above.\n",
    "\n",
    "Expected happiness rating to be a data type of int."
   ]
  },
  {
   "cell_type": "markdown",
   "id": "ed665d34-5224-470b-abc0-01442657228a",
   "metadata": {},
   "source": [
    "## Problem 5 - Displaying text on screen"
   ]
  },
  {
   "cell_type": "code",
   "execution_count": 38,
   "id": "51023082-7eb9-4ce0-bc90-3029640283e1",
   "metadata": {
    "tags": []
   },
   "outputs": [
    {
     "ename": "TypeError",
     "evalue": "can only concatenate str (not \"int\") to str",
     "output_type": "error",
     "traceback": [
      "\u001b[1;31m---------------------------------------------------------------------------\u001b[0m",
      "\u001b[1;31mTypeError\u001b[0m                                 Traceback (most recent call last)",
      "Cell \u001b[1;32mIn[38], line 1\u001b[0m\n\u001b[1;32m----> 1\u001b[0m \u001b[38;5;28mprint\u001b[39m(\u001b[38;5;124;43m'\u001b[39;49m\u001b[38;5;124;43mMy name is\u001b[39;49m\u001b[38;5;124;43m'\u001b[39;49m\u001b[43m \u001b[49m\u001b[38;5;241;43m+\u001b[39;49m\u001b[43m \u001b[49m\u001b[43mspace\u001b[49m\u001b[43m \u001b[49m\u001b[38;5;241;43m+\u001b[39;49m\u001b[43m \u001b[49m\u001b[43mfirst_name\u001b[49m\u001b[43m \u001b[49m\u001b[38;5;241;43m+\u001b[39;49m\u001b[43m \u001b[49m\u001b[38;5;124;43m'\u001b[39;49m\u001b[38;5;124;43mand I give eating ice cream a score of\u001b[39;49m\u001b[38;5;124;43m'\u001b[39;49m\u001b[43m \u001b[49m\u001b[38;5;241;43m+\u001b[39;49m\u001b[43m \u001b[49m\u001b[43mice_cream_rating\u001b[49m)\n\u001b[0;32m      2\u001b[0m \u001b[38;5;28mprint\u001b[39m(\u001b[38;5;124m'\u001b[39m\u001b[38;5;124mI am \u001b[39m\u001b[38;5;124m'\u001b[39m \u001b[38;5;241m+\u001b[39m my_name \u001b[38;5;241m+\u001b[39m \u001b[38;5;124m'\u001b[39m\u001b[38;5;124mand my sleeping enjoyment rating is\u001b[39m\u001b[38;5;124m'\u001b[39m \u001b[38;5;241m+\u001b[39m sleeping_rating )\n\u001b[0;32m      3\u001b[0m \u001b[38;5;28mprint\u001b[39m(\u001b[38;5;124m'\u001b[39m\u001b[38;5;124mBased on the factors above, my happiness is\u001b[39m\u001b[38;5;124m'\u001b[39m \u001b[38;5;241m+\u001b[39m happiness_rating \u001b[38;5;241m+\u001b[39m \u001b[38;5;124m'\u001b[39m\u001b[38;5;124mout of 10, or\u001b[39m\u001b[38;5;124m'\u001b[39m \u001b[38;5;241m+\u001b[39m happiness_rating \u001b[38;5;241m*\u001b[39m \u001b[38;5;241m100\u001b[39m \u001b[38;5;241m+\u001b[39m \u001b[38;5;124m'\u001b[39m\u001b[38;5;124m%\u001b[39m\u001b[38;5;124m!\u001b[39m\u001b[38;5;124m'\u001b[39m)\n",
      "\u001b[1;31mTypeError\u001b[0m: can only concatenate str (not \"int\") to str"
     ]
    }
   ],
   "source": [
    "print('My name is' + space + first_name + 'and I give eating ice cream a score of' + ice_cream_rating)\n",
    "print('I am ' + my_name + 'and my sleeping enjoyment rating is' + sleeping_rating )\n",
    "print('Based on the factors above, my happiness is' + happiness_rating + 'out of 10, or' + happiness_rating * 100 + '%!')"
   ]
  },
  {
   "cell_type": "code",
   "execution_count": null,
   "id": "3bf41066-b78f-44ef-8f0f-f3af721e5de0",
   "metadata": {},
   "outputs": [],
   "source": []
  }
 ],
 "metadata": {
  "kernelspec": {
   "display_name": "Python 3 (ipykernel)",
   "language": "python",
   "name": "python3"
  },
  "language_info": {
   "codemirror_mode": {
    "name": "ipython",
    "version": 3
   },
   "file_extension": ".py",
   "mimetype": "text/x-python",
   "name": "python",
   "nbconvert_exporter": "python",
   "pygments_lexer": "ipython3",
   "version": "3.9.16"
  }
 },
 "nbformat": 4,
 "nbformat_minor": 5
}
